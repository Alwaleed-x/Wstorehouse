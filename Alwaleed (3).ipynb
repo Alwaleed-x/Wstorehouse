{
  "nbformat": 4,
  "nbformat_minor": 0,
  "metadata": {
    "colab": {
      "provenance": [],
      "gpuType": "T4"
    },
    "kernelspec": {
      "name": "python3",
      "display_name": "Python 3"
    },
    "language_info": {
      "name": "python"
    },
    "accelerator": "GPU"
  },
  "cells": [
    {
      "cell_type": "markdown",
      "source": [
        "The project is about ....\n",
        "\n",
        "Dataset is : AI vs Human Text"
      ],
      "metadata": {
        "id": "lguGo4OBW_NJ"
      }
    },
    {
      "cell_type": "code",
      "source": [
        "import pandas as pd\n",
        "import csv\n",
        "df = pd.read_csv('/content/AI_Human.csv', quoting=csv.QUOTE_NONE, on_bad_lines='skip')\n",
        "\n",
        "print(df.head())"
      ],
      "metadata": {
        "colab": {
          "base_uri": "https://localhost:8080/"
        },
        "collapsed": true,
        "id": "_eBEvD6gYIB8",
        "outputId": "5bbadb4a-9cde-496b-baa3-5e91d0a82cad"
      },
      "execution_count": 1,
      "outputs": [
        {
          "output_type": "stream",
          "name": "stdout",
          "text": [
            "                                                                                                                                                    text  \\\n",
            "\"Cars. Cars have been around since they became ... when Henry Ford created and built the first Mod...   people are starting to question if limiting c...   \n",
            "\"\"\"America's love affair with it's vehicles see... it is easier to suggest that America's car usag...   along with a decrease in pollution and depend...   \n",
            "\"The electrol college system is an unfair system   people don't have the right to select their own...   they dont have the right to select a presiden...   \n",
            "In source two and three it states the rule \"\" w... winning can take it all                              that vote that they take from the losing does...   \n",
            "In conclusion                                      the state senators should eliminate the elector...   and don't count other votes that is not popul...   \n",
            "\n",
            "                                                                                                                                               generated  \n",
            "\"Cars. Cars have been around since they became ... when Henry Ford created and built the first Mod...   limiting the use of cars might be a good thin...  \n",
            "\"\"\"America's love affair with it's vehicles see... it is easier to suggest that America's car usag...                                                NaN  \n",
            "\"The electrol college system is an unfair system   people don't have the right to select their own...   when people vote they are technically voting ...  \n",
            "In source two and three it states the rule \"\" w... winning can take it all                              its like your money fell on the floor and som...  \n",
            "In conclusion                                      the state senators should eliminate the elector...                                                0.0  \n"
          ]
        }
      ]
    },
    {
      "cell_type": "code",
      "source": [
        "df['text_word_count'] = df['text'].apply(lambda x: len(str(x).split()))\n",
        "df['generated_word_count'] = df['generated'].apply(lambda x: len(str(x).split()))\n",
        "\n",
        "df['text_char_count'] = df['text'].apply(lambda x: len(str(x)))\n",
        "df['generated_char_count'] = df['generated'].apply(lambda x: len(str(x)))\n",
        "\n",
        "print(df[['text_word_count', 'generated_word_count', 'text_char_count', 'generated_char_count']].head())"
      ],
      "metadata": {
        "colab": {
          "base_uri": "https://localhost:8080/"
        },
        "id": "cpKOmjq_YZGJ",
        "outputId": "e24bb5ff-6707-4351-c569-a2108715408c",
        "collapsed": true
      },
      "execution_count": 2,
      "outputs": [
        {
          "output_type": "stream",
          "name": "stdout",
          "text": [
            "                                                                                                       text_word_count  \\\n",
            "\"Cars. Cars have been around since they became ... when Henry Ford created and built the first Mod...               16   \n",
            "\"\"\"America's love affair with it's vehicles see... it is easier to suggest that America's car usag...                8   \n",
            "\"The electrol college system is an unfair system   people don't have the right to select their own...               10   \n",
            "In source two and three it states the rule \"\" w... winning can take it all                                          31   \n",
            "In conclusion                                      the state senators should eliminate the elector...               50   \n",
            "\n",
            "                                                                                                       generated_word_count  \\\n",
            "\"Cars. Cars have been around since they became ... when Henry Ford created and built the first Mod...                    12   \n",
            "\"\"\"America's love affair with it's vehicles see... it is easier to suggest that America's car usag...                     1   \n",
            "\"The electrol college system is an unfair system   people don't have the right to select their own...                    82   \n",
            "In source two and three it states the rule \"\" w... winning can take it all                                               16   \n",
            "In conclusion                                      the state senators should eliminate the elector...                     1   \n",
            "\n",
            "                                                                                                       text_char_count  \\\n",
            "\"Cars. Cars have been around since they became ... when Henry Ford created and built the first Mod...               83   \n",
            "\"\"\"America's love affair with it's vehicles see... it is easier to suggest that America's car usag...               51   \n",
            "\"The electrol college system is an unfair system   people don't have the right to select their own...               56   \n",
            "In source two and three it states the rule \"\" w... winning can take it all                                         170   \n",
            "In conclusion                                      the state senators should eliminate the elector...              294   \n",
            "\n",
            "                                                                                                       generated_char_count  \n",
            "\"Cars. Cars have been around since they became ... when Henry Ford created and built the first Mod...                    54  \n",
            "\"\"\"America's love affair with it's vehicles see... it is easier to suggest that America's car usag...                     3  \n",
            "\"The electrol college system is an unfair system   people don't have the right to select their own...                   468  \n",
            "In source two and three it states the rule \"\" w... winning can take it all                                               82  \n",
            "In conclusion                                      the state senators should eliminate the elector...                     3  \n"
          ]
        }
      ]
    },
    {
      "cell_type": "code",
      "source": [
        "df['word_difference'] = df['text_word_count'] - df['generated_word_count']\n",
        "df['char_difference'] = df['text_char_count'] - df['generated_char_count']\n",
        "print(df[['text', 'generated', 'word_difference', 'char_difference']].head())"
      ],
      "metadata": {
        "colab": {
          "base_uri": "https://localhost:8080/"
        },
        "collapsed": true,
        "id": "OSZ4fQx2YzU0",
        "outputId": "d8a7fbc0-3075-4d88-e29f-832fb9bd612a"
      },
      "execution_count": 3,
      "outputs": [
        {
          "output_type": "stream",
          "name": "stdout",
          "text": [
            "                                                                                                                                                    text  \\\n",
            "\"Cars. Cars have been around since they became ... when Henry Ford created and built the first Mod...   people are starting to question if limiting c...   \n",
            "\"\"\"America's love affair with it's vehicles see... it is easier to suggest that America's car usag...   along with a decrease in pollution and depend...   \n",
            "\"The electrol college system is an unfair system   people don't have the right to select their own...   they dont have the right to select a presiden...   \n",
            "In source two and three it states the rule \"\" w... winning can take it all                              that vote that they take from the losing does...   \n",
            "In conclusion                                      the state senators should eliminate the elector...   and don't count other votes that is not popul...   \n",
            "\n",
            "                                                                                                                                               generated  \\\n",
            "\"Cars. Cars have been around since they became ... when Henry Ford created and built the first Mod...   limiting the use of cars might be a good thin...   \n",
            "\"\"\"America's love affair with it's vehicles see... it is easier to suggest that America's car usag...                                                NaN   \n",
            "\"The electrol college system is an unfair system   people don't have the right to select their own...   when people vote they are technically voting ...   \n",
            "In source two and three it states the rule \"\" w... winning can take it all                              its like your money fell on the floor and som...   \n",
            "In conclusion                                      the state senators should eliminate the elector...                                                0.0   \n",
            "\n",
            "                                                                                                       word_difference  \\\n",
            "\"Cars. Cars have been around since they became ... when Henry Ford created and built the first Mod...                4   \n",
            "\"\"\"America's love affair with it's vehicles see... it is easier to suggest that America's car usag...                7   \n",
            "\"The electrol college system is an unfair system   people don't have the right to select their own...              -72   \n",
            "In source two and three it states the rule \"\" w... winning can take it all                                          15   \n",
            "In conclusion                                      the state senators should eliminate the elector...               49   \n",
            "\n",
            "                                                                                                       char_difference  \n",
            "\"Cars. Cars have been around since they became ... when Henry Ford created and built the first Mod...               29  \n",
            "\"\"\"America's love affair with it's vehicles see... it is easier to suggest that America's car usag...               48  \n",
            "\"The electrol college system is an unfair system   people don't have the right to select their own...             -412  \n",
            "In source two and three it states the rule \"\" w... winning can take it all                                          88  \n",
            "In conclusion                                      the state senators should eliminate the elector...              291  \n"
          ]
        }
      ]
    },
    {
      "cell_type": "code",
      "source": [
        "import matplotlib.pyplot as plt\n",
        "\n",
        "plt.figure(figsize=(10, 6))\n",
        "plt.hist(df['word_difference'], bins=20, color='blue', edgecolor='black')\n",
        "plt.title('Difference in Word Count (Text vs Generated)')\n",
        "plt.xlabel('Word Difference')\n",
        "plt.ylabel('Frequency')\n",
        "plt.show()\n",
        "\n",
        "plt.figure(figsize=(10, 6))\n",
        "plt.hist(df['char_difference'], bins=20, color='green', edgecolor='black')\n",
        "plt.title('Difference in Character Count (Text vs Generated)')\n",
        "plt.xlabel('Character Difference')\n",
        "plt.ylabel('Frequency')\n",
        "plt.show()"
      ],
      "metadata": {
        "colab": {
          "base_uri": "https://localhost:8080/",
          "height": 1000
        },
        "id": "Ta0TjVtvZD8i",
        "outputId": "04caa20d-b1dc-46cd-f75d-c958968f7e48"
      },
      "execution_count": 4,
      "outputs": [
        {
          "output_type": "display_data",
          "data": {
            "text/plain": [
              "<Figure size 1000x600 with 1 Axes>"
            ],
            "image/png": "[encoded data removed]"
          },
          "metadata": {}
        },
        {
          "output_type": "display_data",
          "data": {
            "text/plain": [
              "<Figure size 1000x600 with 1 Axes>"
            ],
            "image/png": "[encoded data removed]"
          },
          "metadata": {}
        }
      ]
    },
    {
      "cell_type": "code",
      "source": [
        "import torch\n",
        "print(torch.cuda.is_available())"
      ],
      "metadata": {
        "colab": {
          "base_uri": "https://localhost:8080/"
        },
        "id": "kU8X3sl4ZQm8",
        "outputId": "9f74e05f-e070-41f3-bacc-9d908b9da9de"
      },
      "execution_count": 5,
      "outputs": [
        {
          "output_type": "stream",
          "name": "stdout",
          "text": [
            "True\n"
          ]
        }
      ]
    },
    {
      "cell_type": "code",
      "source": [
        "import tensorflow as tf\n",
        "print(\"Num GPUs Available: \", len(tf.config.experimental.list_physical_devices('GPU')))"
      ],
      "metadata": {
        "colab": {
          "base_uri": "https://localhost:8080/"
        },
        "id": "3fXNAW5lZo_B",
        "outputId": "d613ff7c-6617-4bfa-9938-2472ce56d160"
      },
      "execution_count": 6,
      "outputs": [
        {
          "output_type": "stream",
          "name": "stdout",
          "text": [
            "Num GPUs Available:  1\n"
          ]
        }
      ]
    },
    {
      "cell_type": "code",
      "source": [
        "from sklearn.model_selection import train_test_split\n",
        "\n",
        "X = df.iloc[:, 0].values.reshape(-1, 1)\n",
        "y = df.iloc[:, 1].values\n",
        "\n",
        "X_train, X_test, y_train, y_test = train_test_split(X, y, test_size=0.2, random_state=42)"
      ],
      "metadata": {
        "id": "4VBjVuHBc3Rc"
      },
      "execution_count": 7,
      "outputs": []
    },
    {
      "cell_type": "code",
      "source": [
        "import cudf\n",
        "\n",
        "data = cudf.read_csv('/content/AI_Human.csv')\n",
        "\n",
        "# عرض أول 5 صفوف للتحقق من البيانات\n",
        "print(data.head())"
      ],
      "metadata": {
        "id": "owXStmTQdZ2_",
        "colab": {
          "base_uri": "https://localhost:8080/"
        },
        "outputId": "4b584de6-4afa-4902-f962-55564e9abf96",
        "collapsed": true
      },
      "execution_count": 8,
      "outputs": [
        {
          "output_type": "stream",
          "name": "stdout",
          "text": [
            "                                                text  generated\n",
            "0  Cars. Cars have been around since they became ...        0.0\n",
            "1  Transportation is a large necessity in most co...        0.0\n",
            "2  \"America's love affair with it's vehicles seem...        0.0\n",
            "3  How often do you ride in a car? Do you drive a...        0.0\n",
            "4  Cars are a wonderful thing. They are perhaps o...        0.0\n"
          ]
        }
      ]
    },
    {
      "cell_type": "code",
      "source": [
        "# ميزات (الـ input) هي النصوص في عمود 'text'\n",
        "X = data['text']\n",
        "\n",
        "# الهدف (الـ target) هو العمود 'generated'\n",
        "y = data['generated']"
      ],
      "metadata": {
        "id": "JCzUk2lEkFg3"
      },
      "execution_count": 9,
      "outputs": []
    },
    {
      "cell_type": "code",
      "source": [
        "from cuml.feature_extraction.text import TfidfVectorizer\n",
        "import cupy as cp\n",
        "\n",
        "vectorizer = TfidfVectorizer()\n",
        "X_transformed = vectorizer.fit_transform(X)\n",
        "\n",
        "X_transformed_cp = cp.sparse.csr_matrix(X_transformed)\n",
        "print(X_transformed_cp.shape)"
      ],
      "metadata": {
        "id": "2vyD4KSlkfAH",
        "colab": {
          "base_uri": "https://localhost:8080/"
        },
        "outputId": "908caad1-1aa3-4aaf-c993-893a0b321278"
      },
      "execution_count": 10,
      "outputs": [
        {
          "output_type": "stream",
          "name": "stdout",
          "text": [
            "(23949, 65049)\n"
          ]
        }
      ]
    },
    {
      "cell_type": "code",
      "source": [
        "import cudf\n",
        "from cuml.feature_extraction.text import TfidfVectorizer\n",
        "import cupy as cp\n",
        "\n",
        "vectorizer = TfidfVectorizer()\n",
        "X_transformed = vectorizer.fit_transform(X)\n",
        "\n",
        "# تحويل إلى cupy بدلاً من NumPy\n",
        "X_transformed_cudf = cudf.DataFrame.from_records(cp.asnumpy(X_transformed.toarray()))\n",
        "\n",
        "# التحقق من شكل البيانات\n",
        "print(X_transformed_cudf.shape)"
      ],
      "metadata": {
        "id": "leuhOHQ6k3I7",
        "colab": {
          "base_uri": "https://localhost:8080/"
        },
        "outputId": "39bd8cde-c517-42a5-c9ea-ace218dd2750"
      },
      "execution_count": 11,
      "outputs": [
        {
          "output_type": "stream",
          "name": "stdout",
          "text": [
            "(23949, 65049)\n"
          ]
        }
      ]
    },
    {
      "cell_type": "code",
      "source": [
        "# استخدام عينة أصغر من البيانات\n",
        "X_small = X[:100000]  # أخذ أول 100,000 صف فقط\n",
        "y_small = y[:100000]\n",
        "\n",
        "# ثم تابع مع التحويل والتدريب كما هو موضح في الخطوات السابقة"
      ],
      "metadata": {
        "id": "_6qiVelplKMG"
      },
      "execution_count": 12,
      "outputs": []
    },
    {
      "cell_type": "code",
      "source": [
        "from cuml.feature_extraction.text import TfidfVectorizer  # تأكد من الاستيراد بشكل صحيح\n",
        "\n",
        "# أخذ عينة من البيانات\n",
        "X_small = X[:100000]\n",
        "y_small = y[:100000]\n",
        "\n",
        "# استخدام cuML TfidfVectorizer مع العينة\n",
        "vectorizer = TfidfVectorizer(max_features=2000)\n",
        "X_transformed = vectorizer.fit_transform(X_small)"
      ],
      "metadata": {
        "id": "3JPwwTSqmtgg"
      },
      "execution_count": 13,
      "outputs": []
    },
    {
      "cell_type": "code",
      "source": [
        "from sklearn.feature_extraction.text import TfidfVectorizer\n",
        "\n",
        "# استخدام sklearn TfidfVectorizer بدلاً من cuML\n",
        "vectorizer = TfidfVectorizer(max_features=2000)\n",
        "X_transformed = vectorizer.fit_transform(X_small)"
      ],
      "metadata": {
        "id": "b8-XkaATohTe",
        "colab": {
          "base_uri": "https://localhost:8080/",
          "height": 321
        },
        "outputId": "df79b263-9c85-4eea-f14a-f5ade6678a89"
      },
      "execution_count": 14,
      "outputs": [
        {
          "output_type": "error",
          "ename": "TypeError",
          "evalue": "Series object is not iterable. Consider using `.to_arrow()`, `.to_pandas()` or `.values_host` if you wish to iterate over the values.",
          "traceback": [
            "\u001b[0;31m---------------------------------------------------------------------------\u001b[0m",
            "\u001b[0;31mTypeError\u001b[0m                                 Traceback (most recent call last)",
            "\u001b[0;32m<ipython-input-14-638eac447191>\u001b[0m in \u001b[0;36m<cell line: 0>\u001b[0;34m()\u001b[0m\n\u001b[1;32m      3\u001b[0m \u001b[0;31m# استخدام sklearn TfidfVectorizer بدلاً من cuML\u001b[0m\u001b[0;34m\u001b[0m\u001b[0;34m\u001b[0m\u001b[0m\n\u001b[1;32m      4\u001b[0m \u001b[0mvectorizer\u001b[0m \u001b[0;34m=\u001b[0m \u001b[0mTfidfVectorizer\u001b[0m\u001b[0;34m(\u001b[0m\u001b[0mmax_features\u001b[0m\u001b[0;34m=\u001b[0m\u001b[0;36m2000\u001b[0m\u001b[0;34m)\u001b[0m\u001b[0;34m\u001b[0m\u001b[0;34m\u001b[0m\u001b[0m\n\u001b[0;32m----> 5\u001b[0;31m \u001b[0mX_transformed\u001b[0m \u001b[0;34m=\u001b[0m \u001b[0mvectorizer\u001b[0m\u001b[0;34m.\u001b[0m\u001b[0mfit_transform\u001b[0m\u001b[0;34m(\u001b[0m\u001b[0mX_small\u001b[0m\u001b[0;34m)\u001b[0m\u001b[0;34m\u001b[0m\u001b[0;34m\u001b[0m\u001b[0m\n\u001b[0m",
            "\u001b[0;32m/usr/local/lib/python3.11/dist-packages/sklearn/feature_extraction/text.py\u001b[0m in \u001b[0;36mfit_transform\u001b[0;34m(self, raw_documents, y)\u001b[0m\n\u001b[1;32m   2102\u001b[0m             \u001b[0msublinear_tf\u001b[0m\u001b[0;34m=\u001b[0m\u001b[0mself\u001b[0m\u001b[0;34m.\u001b[0m\u001b[0msublinear_tf\u001b[0m\u001b[0;34m,\u001b[0m\u001b[0;34m\u001b[0m\u001b[0;34m\u001b[0m\u001b[0m\n\u001b[1;32m   2103\u001b[0m         )\n\u001b[0;32m-> 2104\u001b[0;31m         \u001b[0mX\u001b[0m \u001b[0;34m=\u001b[0m \u001b[0msuper\u001b[0m\u001b[0;34m(\u001b[0m\u001b[0;34m)\u001b[0m\u001b[0;34m.\u001b[0m\u001b[0mfit_transform\u001b[0m\u001b[0;34m(\u001b[0m\u001b[0mraw_documents\u001b[0m\u001b[0;34m)\u001b[0m\u001b[0;34m\u001b[0m\u001b[0;34m\u001b[0m\u001b[0m\n\u001b[0m\u001b[1;32m   2105\u001b[0m         \u001b[0mself\u001b[0m\u001b[0;34m.\u001b[0m\u001b[0m_tfidf\u001b[0m\u001b[0;34m.\u001b[0m\u001b[0mfit\u001b[0m\u001b[0;34m(\u001b[0m\u001b[0mX\u001b[0m\u001b[0;34m)\u001b[0m\u001b[0;34m\u001b[0m\u001b[0;34m\u001b[0m\u001b[0m\n\u001b[1;32m   2106\u001b[0m         \u001b[0;31m# X is already a transformed view of raw_documents so\u001b[0m\u001b[0;34m\u001b[0m\u001b[0;34m\u001b[0m\u001b[0m\n",
            "\u001b[0;32m/usr/local/lib/python3.11/dist-packages/sklearn/base.py\u001b[0m in \u001b[0;36mwrapper\u001b[0;34m(estimator, *args, **kwargs)\u001b[0m\n\u001b[1;32m   1387\u001b[0m                 )\n\u001b[1;32m   1388\u001b[0m             ):\n\u001b[0;32m-> 1389\u001b[0;31m                 \u001b[0;32mreturn\u001b[0m \u001b[0mfit_method\u001b[0m\u001b[0;34m(\u001b[0m\u001b[0mestimator\u001b[0m\u001b[0;34m,\u001b[0m \u001b[0;34m*\u001b[0m\u001b[0margs\u001b[0m\u001b[0;34m,\u001b[0m \u001b[0;34m**\u001b[0m\u001b[0mkwargs\u001b[0m\u001b[0;34m)\u001b[0m\u001b[0;34m\u001b[0m\u001b[0;34m\u001b[0m\u001b[0m\n\u001b[0m\u001b[1;32m   1390\u001b[0m \u001b[0;34m\u001b[0m\u001b[0m\n\u001b[1;32m   1391\u001b[0m         \u001b[0;32mreturn\u001b[0m \u001b[0mwrapper\u001b[0m\u001b[0;34m\u001b[0m\u001b[0;34m\u001b[0m\u001b[0m\n",
            "\u001b[0;32m/usr/local/lib/python3.11/dist-packages/sklearn/feature_extraction/text.py\u001b[0m in \u001b[0;36mfit_transform\u001b[0;34m(self, raw_documents, y)\u001b[0m\n\u001b[1;32m   1374\u001b[0m                     \u001b[0;32mbreak\u001b[0m\u001b[0;34m\u001b[0m\u001b[0;34m\u001b[0m\u001b[0m\n\u001b[1;32m   1375\u001b[0m \u001b[0;34m\u001b[0m\u001b[0m\n\u001b[0;32m-> 1376\u001b[0;31m         \u001b[0mvocabulary\u001b[0m\u001b[0;34m,\u001b[0m \u001b[0mX\u001b[0m \u001b[0;34m=\u001b[0m \u001b[0mself\u001b[0m\u001b[0;34m.\u001b[0m\u001b[0m_count_vocab\u001b[0m\u001b[0;34m(\u001b[0m\u001b[0mraw_documents\u001b[0m\u001b[0;34m,\u001b[0m \u001b[0mself\u001b[0m\u001b[0;34m.\u001b[0m\u001b[0mfixed_vocabulary_\u001b[0m\u001b[0;34m)\u001b[0m\u001b[0;34m\u001b[0m\u001b[0;34m\u001b[0m\u001b[0m\n\u001b[0m\u001b[1;32m   1377\u001b[0m \u001b[0;34m\u001b[0m\u001b[0m\n\u001b[1;32m   1378\u001b[0m         \u001b[0;32mif\u001b[0m \u001b[0mself\u001b[0m\u001b[0;34m.\u001b[0m\u001b[0mbinary\u001b[0m\u001b[0;34m:\u001b[0m\u001b[0;34m\u001b[0m\u001b[0;34m\u001b[0m\u001b[0m\n",
            "\u001b[0;32m/usr/local/lib/python3.11/dist-packages/sklearn/feature_extraction/text.py\u001b[0m in \u001b[0;36m_count_vocab\u001b[0;34m(self, raw_documents, fixed_vocab)\u001b[0m\n\u001b[1;32m   1259\u001b[0m         \u001b[0mvalues\u001b[0m \u001b[0;34m=\u001b[0m \u001b[0m_make_int_array\u001b[0m\u001b[0;34m(\u001b[0m\u001b[0;34m)\u001b[0m\u001b[0;34m\u001b[0m\u001b[0;34m\u001b[0m\u001b[0m\n\u001b[1;32m   1260\u001b[0m         \u001b[0mindptr\u001b[0m\u001b[0;34m.\u001b[0m\u001b[0mappend\u001b[0m\u001b[0;34m(\u001b[0m\u001b[0;36m0\u001b[0m\u001b[0;34m)\u001b[0m\u001b[0;34m\u001b[0m\u001b[0;34m\u001b[0m\u001b[0m\n\u001b[0;32m-> 1261\u001b[0;31m         \u001b[0;32mfor\u001b[0m \u001b[0mdoc\u001b[0m \u001b[0;32min\u001b[0m \u001b[0mraw_documents\u001b[0m\u001b[0;34m:\u001b[0m\u001b[0;34m\u001b[0m\u001b[0;34m\u001b[0m\u001b[0m\n\u001b[0m\u001b[1;32m   1262\u001b[0m             \u001b[0mfeature_counter\u001b[0m \u001b[0;34m=\u001b[0m \u001b[0;34m{\u001b[0m\u001b[0;34m}\u001b[0m\u001b[0;34m\u001b[0m\u001b[0;34m\u001b[0m\u001b[0m\n\u001b[1;32m   1263\u001b[0m             \u001b[0;32mfor\u001b[0m \u001b[0mfeature\u001b[0m \u001b[0;32min\u001b[0m \u001b[0manalyze\u001b[0m\u001b[0;34m(\u001b[0m\u001b[0mdoc\u001b[0m\u001b[0;34m)\u001b[0m\u001b[0;34m:\u001b[0m\u001b[0;34m\u001b[0m\u001b[0;34m\u001b[0m\u001b[0m\n",
            "\u001b[0;32m/usr/local/lib/python3.11/dist-packages/cudf/utils/utils.py\u001b[0m in \u001b[0;36m__iter__\u001b[0;34m(self)\u001b[0m\n\u001b[1;32m    243\u001b[0m         \u001b[0minformation\u001b[0m\u001b[0;34m.\u001b[0m\u001b[0;34m\u001b[0m\u001b[0;34m\u001b[0m\u001b[0m\n\u001b[1;32m    244\u001b[0m         \"\"\"\n\u001b[0;32m--> 245\u001b[0;31m         raise TypeError(\n\u001b[0m\u001b[1;32m    246\u001b[0m             \u001b[0;34mf\"{self.__class__.__name__} object is not iterable. \"\u001b[0m\u001b[0;34m\u001b[0m\u001b[0;34m\u001b[0m\u001b[0m\n\u001b[1;32m    247\u001b[0m             \u001b[0;34mf\"Consider using `.to_arrow()`, `.to_pandas()` or `.values_host` \"\u001b[0m\u001b[0;34m\u001b[0m\u001b[0;34m\u001b[0m\u001b[0m\n",
            "\u001b[0;31mTypeError\u001b[0m: Series object is not iterable. Consider using `.to_arrow()`, `.to_pandas()` or `.values_host` if you wish to iterate over the values."
          ]
        }
      ]
    },
    {
      "cell_type": "code",
      "source": [
        "# تقليل عدد السجلات\n",
        "X_small = X[:50000]  # أخذ أول 50,000 صف فقط\n",
        "y_small = y[:50000]\n",
        "\n",
        "# تقليل عدد الميزات أكثر\n",
        "vectorizer = cuTfidfVectorizer(max_features=1000)\n",
        "X_transformed = vectorizer.fit_transform(X_small)"
      ],
      "metadata": {
        "id": "qzim4U3Yo1So"
      },
      "execution_count": null,
      "outputs": []
    },
    {
      "cell_type": "code",
      "source": [
        "import cudf\n",
        "import cupy as cp\n",
        "from cuml.decomposition import TruncatedSVD\n",
        "X_dense = X_transformed.toarray()\n",
        "\n",
        "# تقليل الأبعاد باستخدام TruncatedSVD\n",
        "svd = TruncatedSVD(n_components=100)\n",
        "X_transformed_svd = svd.fit_transform(X_dense)\n",
        "\n",
        "# تأكد من أن الأبعاد قد تم تقليصها بنجاح\n",
        "print(X_transformed_svd.shape)"
      ],
      "metadata": {
        "id": "HuNkywvYo-wA"
      },
      "execution_count": null,
      "outputs": []
    },
    {
      "cell_type": "code",
      "source": [
        "from cuml.naive_bayes import MultinomialNB\n",
        "from cuml.linear_model import LogisticRegression\n",
        "from cuml.ensemble import RandomForestClassifier\n",
        "from cuml.metrics import accuracy_score\n",
        "import matplotlib.pyplot as plt\n",
        "\n",
        "nb_model = MultinomialNB()\n",
        "nb_model.fit(X_transformed_svd, y_small)\n",
        "\n",
        "nb_pred = nb_model.predict(X_transformed_svd)\n",
        "nb_accuracy = accuracy_score(y_small, nb_pred)\n",
        "print(f\"Naive Bayes Accuracy: {nb_accuracy}\")\n",
        "\n",
        "lr_model = LogisticRegression()\n",
        "lr_model.fit(X_transformed_svd, y_small)\n",
        "\n",
        "lr_pred = lr_model.predict(X_transformed_svd)\n",
        "lr_accuracy = accuracy_score(y_small, lr_pred)\n",
        "print(f\"Logistic Regression Accuracy: {lr_accuracy}\")\n",
        "\n",
        "rf_model = RandomForestClassifier()\n",
        "rf_model.fit(X_transformed_svd, y_small)\n",
        "\n",
        "rf_pred = rf_model.predict(X_transformed_svd)\n",
        "rf_accuracy = accuracy_score(y_small, rf_pred)\n",
        "print(f\"Random Forest Accuracy: {rf_accuracy}\")\n",
        "\n",
        "models = ['Naive Bayes', 'Logistic Regression', 'Random Forest']\n",
        "accuracies = [nb_accuracy, lr_accuracy, rf_accuracy]\n",
        "\n",
        "plt.bar(models, accuracies, color=['blue', 'green', 'red'])\n",
        "plt.xlabel('Model')\n",
        "plt.ylabel('Accuracy')\n",
        "plt.title('Model Accuracy Comparison')\n",
        "plt.show()"
      ],
      "metadata": {
        "id": "FyGPrE5EpD1U"
      },
      "execution_count": null,
      "outputs": []
    },
    {
      "cell_type": "code",
      "source": [
        "import cupy as cp\n",
        "import time\n",
        "from cuml.naive_bayes import MultinomialNB\n",
        "from cuml.linear_model import LogisticRegression\n",
        "from cuml.ensemble import RandomForestClassifier\n",
        "from cuml.metrics import accuracy_score\n",
        "\n",
        "gpu_before_free, gpu_before_total = cp.cuda.runtime.memGetInfo()\n",
        "\n",
        "start_time = time.time()\n",
        "nb_model = MultinomialNB()\n",
        "nb_model.fit(X_transformed_svd, y_small)\n",
        "nb_pred = nb_model.predict(X_transformed_svd)\n",
        "nb_accuracy = accuracy_score(y_small, nb_pred)\n",
        "end_time = time.time()\n",
        "\n",
        "gpu_after_free, gpu_after_total = cp.cuda.runtime.memGetInfo()\n",
        "gpu_memory_used = gpu_after_total - gpu_before_total\n",
        "\n",
        "print(f\"Naive Bayes Training Time: {end_time - start_time} seconds\")\n",
        "print(f\"Naive Bayes Memory Used: {gpu_memory_used} bytes\")\n",
        "\n",
        "start_time = time.time()\n",
        "lr_model = LogisticRegression()\n",
        "lr_model.fit(X_transformed_svd, y_small)\n",
        "lr_pred = lr_model.predict(X_transformed_svd)\n",
        "lr_accuracy = accuracy_score(y_small, lr_pred)\n",
        "end_time = time.time()\n",
        "\n",
        "gpu_after_free, gpu_after_total = cp.cuda.runtime.memGetInfo()\n",
        "gpu_memory_used = gpu_after_total - gpu_before_total\n",
        "\n",
        "print(f\"Logistic Regression Training Time: {end_time - start_time} seconds\")\n",
        "print(f\"Logistic Regression Memory Used: {gpu_memory_used} bytes\")\n",
        "\n",
        "start_time = time.time()\n",
        "rf_model = RandomForestClassifier()\n",
        "rf_model.fit(X_transformed_svd, y_small)\n",
        "rf_pred = rf_model.predict(X_transformed_svd)\n",
        "rf_accuracy = accuracy_score(y_small, rf_pred)\n",
        "end_time = time.time()\n",
        "\n",
        "gpu_after_free, gpu_after_total = cp.cuda.runtime.memGetInfo()\n",
        "gpu_memory_used = gpu_after_total - gpu_before_total\n",
        "\n",
        "print(f\"Random Forest Training Time: {end_time - start_time} seconds\")\n",
        "print(f\"Random Forest Memory Used: {gpu_memory_used} bytes\")"
      ],
      "metadata": {
        "id": "6m2uV_HBp9Tg"
      },
      "execution_count": null,
      "outputs": []
    },
    {
      "cell_type": "code",
      "source": [
        "!pip install xgboost"
      ],
      "metadata": {
        "collapsed": true,
        "id": "MNyQACEYrmvV"
      },
      "execution_count": null,
      "outputs": []
    },
    {
      "cell_type": "code",
      "source": [
        "import xgboost as xgb\n",
        "from cuml.metrics import accuracy_score\n",
        "import time\n",
        "\n",
        "# تحويل البيانات إلى تنسيق DMatrix\n",
        "dtrain = xgb.DMatrix(X_transformed_svd, label=y_small)\n",
        "dtest = xgb.DMatrix(X_transformed_svd, label=y_small)\n",
        "\n",
        "# إعدادات XGBoost مع دعم GPU\n",
        "params = {\n",
        "    'tree_method': 'hist',  # استخدام GPU للتدريب مع \"hist\" بدلاً من \"gpu_hist\"\n",
        "    'device': 'cuda',  # تحديد الجهاز لاستخدام CUDA (GPU)\n",
        "    'objective': 'binary:logistic',  # التصنيف الثنائي\n",
        "    'eval_metric': 'logloss',\n",
        "}\n",
        "\n",
        "# تدريب النموذج\n",
        "start_time = time.time()\n",
        "bst = xgb.train(params, dtrain, num_boost_round=100)\n",
        "\n",
        "# التنبؤ\n",
        "y_pred = bst.predict(dtest)\n",
        "\n",
        "# تحويل التنبؤات إلى تصنيفات (0 أو 1)\n",
        "y_pred_binary = (y_pred > 0.5).astype(int)\n",
        "\n",
        "# حساب دقة النموذج\n",
        "accuracy = accuracy_score(y_small, y_pred_binary)\n",
        "end_time = time.time()\n",
        "\n",
        "print(f\"XGBoost Training Time: {end_time - start_time} seconds\")\n",
        "print(f\"XGBoost Accuracy: {accuracy}\")"
      ],
      "metadata": {
        "collapsed": true,
        "id": "dNq85NJfqORa"
      },
      "execution_count": null,
      "outputs": []
    },
    {
      "cell_type": "code",
      "source": [
        "from sklearn.model_selection import cross_val_score\n",
        "import xgboost as xgb\n",
        "import numpy as np\n",
        "\n",
        "# تحويل البيانات إلى تنسيق DMatrix\n",
        "dtrain = xgb.DMatrix(X_transformed_svd, label=y_small)\n",
        "\n",
        "# إعدادات XGBoost مع دعم GPU\n",
        "params = {\n",
        "    'tree_method': 'hist',\n",
        "    'device': 'cuda',\n",
        "    'objective': 'binary:logistic',\n",
        "    'eval_metric': 'logloss',\n",
        "}\n",
        "\n",
        "# استخدام cross-validation للحصول على تقييم أكثر دقة\n",
        "cv_results = xgb.cv(params, dtrain, num_boost_round=100, nfold=5, metrics=\"logloss\", as_pandas=True)\n",
        "\n",
        "# عرض نتائج cross-validation\n",
        "print(cv_results.tail())\n",
        "\n",
        "# الدقة المحسوبة عبر cross-validation\n",
        "cv_accuracy = cv_results['test-logloss-mean'].min()\n",
        "print(f\"XGBoost Cross-Validation Accuracy (Logloss): {cv_accuracy}\")"
      ],
      "metadata": {
        "id": "hlyYKmKTrOjZ"
      },
      "execution_count": null,
      "outputs": []
    },
    {
      "cell_type": "code",
      "source": [],
      "metadata": {
        "id": "W-yuZuwLs1iu"
      },
      "execution_count": null,
      "outputs": []
    }
  ]
}