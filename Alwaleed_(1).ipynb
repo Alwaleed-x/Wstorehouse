{
  "nbformat": 4,
  "nbformat_minor": 0,
  "metadata": {
    "colab": {
      "provenance": [],
      "gpuType": "T4"
    },
    "kernelspec": {
      "name": "python3",
      "display_name": "Python 3"
    },
    "language_info": {
      "name": "python"
    },
    "accelerator": "GPU"
  },
  "cells": [
    {
      "cell_type": "markdown",
      "source": [
        "The project is about ....\n",
        "\n",
        "Dataset is : AI vs Human Text"
      ],
      "metadata": {
        "id": "lguGo4OBW_NJ"
      }
    },
    {
      "cell_type": "code",
      "source": [
        "import pandas as pd\n",
        "import csv\n",
        "df = pd.read_csv('/content/AI_Human.csv', quoting=csv.QUOTE_NONE, on_bad_lines='skip')\n",
        "\n",
        "print(df.head())"
      ],
      "metadata": {
        "colab": {
          "base_uri": "https://localhost:8080/"
        },
        "collapsed": true,
        "id": "_eBEvD6gYIB8",
        "outputId": "d96a476a-8d05-49af-b70c-31765f8e7e45"
      },
      "execution_count": null,
      "outputs": [
        {
          "output_type": "stream",
          "name": "stdout",
          "text": [
            "                                                                                                                                                    text  \\\n",
            "\"Cars. Cars have been around since they became ... when Henry Ford created and built the first Mod...   people are starting to question if limiting c...   \n",
            "\"\"\"America's love affair with it's vehicles see... it is easier to suggest that America's car usag...   along with a decrease in pollution and depend...   \n",
            "\"The electrol college system is an unfair system   people don't have the right to select their own...   they dont have the right to select a presiden...   \n",
            "In source two and three it states the rule \"\" w... winning can take it all                              that vote that they take from the losing does...   \n",
            "In conclusion                                      the state senators should eliminate the elector...   and don't count other votes that is not popul...   \n",
            "\n",
            "                                                                                                                                               generated  \n",
            "\"Cars. Cars have been around since they became ... when Henry Ford created and built the first Mod...   limiting the use of cars might be a good thin...  \n",
            "\"\"\"America's love affair with it's vehicles see... it is easier to suggest that America's car usag...                                                NaN  \n",
            "\"The electrol college system is an unfair system   people don't have the right to select their own...   when people vote they are technically voting ...  \n",
            "In source two and three it states the rule \"\" w... winning can take it all                              its like your money fell on the floor and som...  \n",
            "In conclusion                                      the state senators should eliminate the elector...                                                0.0  \n"
          ]
        }
      ]
    },
    {
      "cell_type": "code",
      "source": [
        "df['text_word_count'] = df['text'].apply(lambda x: len(str(x).split()))\n",
        "df['generated_word_count'] = df['generated'].apply(lambda x: len(str(x).split()))\n",
        "\n",
        "df['text_char_count'] = df['text'].apply(lambda x: len(str(x)))\n",
        "df['generated_char_count'] = df['generated'].apply(lambda x: len(str(x)))\n",
        "\n",
        "print(df[['text_word_count', 'generated_word_count', 'text_char_count', 'generated_char_count']].head())"
      ],
      "metadata": {
        "colab": {
          "base_uri": "https://localhost:8080/"
        },
        "id": "cpKOmjq_YZGJ",
        "outputId": "cf09c057-0aff-4f06-ac92-610cccca131c"
      },
      "execution_count": null,
      "outputs": [
        {
          "output_type": "stream",
          "name": "stdout",
          "text": [
            "                                                                                                       text_word_count  \\\n",
            "\"Cars. Cars have been around since they became ... when Henry Ford created and built the first Mod...               16   \n",
            "\"\"\"America's love affair with it's vehicles see... it is easier to suggest that America's car usag...                8   \n",
            "\"The electrol college system is an unfair system   people don't have the right to select their own...               10   \n",
            "In source two and three it states the rule \"\" w... winning can take it all                                          31   \n",
            "In conclusion                                      the state senators should eliminate the elector...               50   \n",
            "\n",
            "                                                                                                       generated_word_count  \\\n",
            "\"Cars. Cars have been around since they became ... when Henry Ford created and built the first Mod...                    12   \n",
            "\"\"\"America's love affair with it's vehicles see... it is easier to suggest that America's car usag...                     1   \n",
            "\"The electrol college system is an unfair system   people don't have the right to select their own...                    82   \n",
            "In source two and three it states the rule \"\" w... winning can take it all                                               16   \n",
            "In conclusion                                      the state senators should eliminate the elector...                     1   \n",
            "\n",
            "                                                                                                       text_char_count  \\\n",
            "\"Cars. Cars have been around since they became ... when Henry Ford created and built the first Mod...               83   \n",
            "\"\"\"America's love affair with it's vehicles see... it is easier to suggest that America's car usag...               51   \n",
            "\"The electrol college system is an unfair system   people don't have the right to select their own...               56   \n",
            "In source two and three it states the rule \"\" w... winning can take it all                                         170   \n",
            "In conclusion                                      the state senators should eliminate the elector...              294   \n",
            "\n",
            "                                                                                                       generated_char_count  \n",
            "\"Cars. Cars have been around since they became ... when Henry Ford created and built the first Mod...                    54  \n",
            "\"\"\"America's love affair with it's vehicles see... it is easier to suggest that America's car usag...                     3  \n",
            "\"The electrol college system is an unfair system   people don't have the right to select their own...                   468  \n",
            "In source two and three it states the rule \"\" w... winning can take it all                                               82  \n",
            "In conclusion                                      the state senators should eliminate the elector...                     3  \n"
          ]
        }
      ]
    },
    {
      "cell_type": "code",
      "source": [
        "df['word_difference'] = df['text_word_count'] - df['generated_word_count']\n",
        "df['char_difference'] = df['text_char_count'] - df['generated_char_count']\n",
        "print(df[['text', 'generated', 'word_difference', 'char_difference']].head())"
      ],
      "metadata": {
        "colab": {
          "base_uri": "https://localhost:8080/"
        },
        "collapsed": true,
        "id": "OSZ4fQx2YzU0",
        "outputId": "91067823-e19e-464e-abd4-ea3197af124b"
      },
      "execution_count": null,
      "outputs": [
        {
          "output_type": "stream",
          "name": "stdout",
          "text": [
            "                                                                                                                                                    text  \\\n",
            "\"Cars. Cars have been around since they became ... when Henry Ford created and built the first Mod...   people are starting to question if limiting c...   \n",
            "\"\"\"America's love affair with it's vehicles see... it is easier to suggest that America's car usag...   along with a decrease in pollution and depend...   \n",
            "\"The electrol college system is an unfair system   people don't have the right to select their own...   they dont have the right to select a presiden...   \n",
            "In source two and three it states the rule \"\" w... winning can take it all                              that vote that they take from the losing does...   \n",
            "In conclusion                                      the state senators should eliminate the elector...   and don't count other votes that is not popul...   \n",
            "\n",
            "                                                                                                                                               generated  \\\n",
            "\"Cars. Cars have been around since they became ... when Henry Ford created and built the first Mod...   limiting the use of cars might be a good thin...   \n",
            "\"\"\"America's love affair with it's vehicles see... it is easier to suggest that America's car usag...                                                NaN   \n",
            "\"The electrol college system is an unfair system   people don't have the right to select their own...   when people vote they are technically voting ...   \n",
            "In source two and three it states the rule \"\" w... winning can take it all                              its like your money fell on the floor and som...   \n",
            "In conclusion                                      the state senators should eliminate the elector...                                                0.0   \n",
            "\n",
            "                                                                                                       word_difference  \\\n",
            "\"Cars. Cars have been around since they became ... when Henry Ford created and built the first Mod...                4   \n",
            "\"\"\"America's love affair with it's vehicles see... it is easier to suggest that America's car usag...                7   \n",
            "\"The electrol college system is an unfair system   people don't have the right to select their own...              -72   \n",
            "In source two and three it states the rule \"\" w... winning can take it all                                          15   \n",
            "In conclusion                                      the state senators should eliminate the elector...               49   \n",
            "\n",
            "                                                                                                       char_difference  \n",
            "\"Cars. Cars have been around since they became ... when Henry Ford created and built the first Mod...               29  \n",
            "\"\"\"America's love affair with it's vehicles see... it is easier to suggest that America's car usag...               48  \n",
            "\"The electrol college system is an unfair system   people don't have the right to select their own...             -412  \n",
            "In source two and three it states the rule \"\" w... winning can take it all                                          88  \n",
            "In conclusion                                      the state senators should eliminate the elector...              291  \n"
          ]
        }
      ]
    },
    {
      "cell_type": "code",
      "source": [
        "import matplotlib.pyplot as plt\n",
        "\n",
        "plt.figure(figsize=(10, 6))\n",
        "plt.hist(df['word_difference'], bins=20, color='blue', edgecolor='black')\n",
        "plt.title('Difference in Word Count (Text vs Generated)')\n",
        "plt.xlabel('Word Difference')\n",
        "plt.ylabel('Frequency')\n",
        "plt.show()\n",
        "\n",
        "plt.figure(figsize=(10, 6))\n",
        "plt.hist(df['char_difference'], bins=20, color='green', edgecolor='black')\n",
        "plt.title('Difference in Character Count (Text vs Generated)')\n",
        "plt.xlabel('Character Difference')\n",
        "plt.ylabel('Frequency')\n",
        "plt.show()"
      ],
      "metadata": {
        "colab": {
          "base_uri": "https://localhost:8080/",
          "height": 1000
        },
        "id": "Ta0TjVtvZD8i",
        "outputId": "91f0943b-fdfa-4f08-ebd8-d654daad6fa9"
      },
      "execution_count": null,
      "outputs": [
        {
          "output_type": "display_data",
          "data": {
            "text/plain": [
              "<Figure size 1000x600 with 1 Axes>"
            ],
            "image/png": "[encoded data removed]"
          },
          "metadata": {}
        },
        {
          "output_type": "display_data",
          "data": {
            "text/plain": [
              "<Figure size 1000x600 with 1 Axes>"
            ],
            "image/png": "[encoded data removed]"
          },
          "metadata": {}
        }
      ]
    },
    {
      "cell_type": "code",
      "source": [
        "import torch\n",
        "print(torch.cuda.is_available())"
      ],
      "metadata": {
        "colab": {
          "base_uri": "https://localhost:8080/"
        },
        "id": "kU8X3sl4ZQm8",
        "outputId": "0da41ae7-fb09-4663-e22c-914a26cb1f3e"
      },
      "execution_count": null,
      "outputs": [
        {
          "output_type": "stream",
          "name": "stdout",
          "text": [
            "True\n"
          ]
        }
      ]
    },
    {
      "cell_type": "code",
      "source": [
        "import tensorflow as tf\n",
        "print(\"Num GPUs Available: \", len(tf.config.experimental.list_physical_devices('GPU')))"
      ],
      "metadata": {
        "colab": {
          "base_uri": "https://localhost:8080/"
        },
        "id": "3fXNAW5lZo_B",
        "outputId": "82068bd3-2acf-461e-fb64-1cf680637f41"
      },
      "execution_count": null,
      "outputs": [
        {
          "output_type": "stream",
          "name": "stdout",
          "text": [
            "Num GPUs Available:  1\n"
          ]
        }
      ]
    },
    {
      "cell_type": "code",
      "source": [
        "from sklearn.model_selection import train_test_split\n",
        "\n",
        "X = df.iloc[:, 0].values.reshape(-1, 1)\n",
        "y = df.iloc[:, 1].values\n",
        "\n",
        "X_train, X_test, y_train, y_test = train_test_split(X, y, test_size=0.2, random_state=42)"
      ],
      "metadata": {
        "id": "4VBjVuHBc3Rc"
      },
      "execution_count": null,
      "outputs": []
    },
    {
      "cell_type": "code",
      "source": [
        "import cudf\n",
        "\n",
        "data = cudf.read_csv('/content/AI_Human.csv')\n",
        "\n",
        "print(data.head())"
      ],
      "metadata": {
        "id": "owXStmTQdZ2_",
        "colab": {
          "base_uri": "https://localhost:8080/"
        },
        "outputId": "f3571679-6fbb-4ad4-aec1-a5d2d944bcbe"
      },
      "execution_count": null,
      "outputs": [
        {
          "output_type": "stream",
          "name": "stdout",
          "text": [
            "                                                text  generated\n",
            "0  Cars. Cars have been around since they became ...        0.0\n",
            "1  Transportation is a large necessity in most co...        0.0\n",
            "2  \"America's love affair with it's vehicles seem...        0.0\n",
            "3  How often do you ride in a car? Do you drive a...        0.0\n",
            "4  Cars are a wonderful thing. They are perhaps o...        0.0\n"
          ]
        }
      ]
    },
    {
      "cell_type": "code",
      "source": [
        "X = data['text']\n",
        "\n",
        "y = data['generated']"
      ],
      "metadata": {
        "id": "JCzUk2lEkFg3"
      },
      "execution_count": null,
      "outputs": []
    },
    {
      "cell_type": "code",
      "source": [
        "from cuml.feature_extraction.text import TfidfVectorizer\n",
        "import cupy as cp\n",
        "\n",
        "vectorizer = TfidfVectorizer()\n",
        "X_transformed = vectorizer.fit_transform(X)\n",
        "\n",
        "X_transformed_cp = cp.sparse.csr_matrix(X_transformed)\n",
        "print(X_transformed_cp.shape)"
      ],
      "metadata": {
        "colab": {
          "base_uri": "https://localhost:8080/"
        },
        "id": "2vyD4KSlkfAH",
        "outputId": "b5be3e19-60ed-4488-ef4a-57c7267f1124"
      },
      "execution_count": null,
      "outputs": [
        {
          "output_type": "stream",
          "name": "stdout",
          "text": [
            "(487235, 259050)\n"
          ]
        }
      ]
    },
    {
      "cell_type": "code",
      "source": [
        "import cudf\n",
        "from cuml.feature_extraction.text import TfidfVectorizer\n",
        "import cupy as cp\n",
        "\n",
        "vectorizer = TfidfVectorizer()\n",
        "X_transformed = vectorizer.fit_transform(X)\n",
        "\n",
        "X_transformed_cudf = cudf.DataFrame.from_pandas(X_transformed.toarray())\n",
        "\n",
        "print(X_transformed_cudf.shape)"
      ],
      "metadata": {
        "colab": {
          "base_uri": "https://localhost:8080/",
          "height": 512
        },
        "id": "leuhOHQ6k3I7",
        "outputId": "78e342af-8cd7-4ab5-eca5-7e09704f8040",
        "collapsed": true
      },
      "execution_count": null,
      "outputs": [
        {
          "output_type": "error",
          "ename": "MemoryError",
          "evalue": "std::bad_alloc: out_of_memory: CUDA error at: /tmp/pip-build-env-c7imy8iv/normal/lib/python3.11/site-packages/librmm/include/rmm/mr/device/cuda_memory_resource.hpp:62: cudaErrorMemoryAllocation out of memory",
          "traceback": [
            "\u001b[0;31m---------------------------------------------------------------------------\u001b[0m",
            "\u001b[0;31mMemoryError\u001b[0m                               Traceback (most recent call last)",
            "\u001b[0;32m<ipython-input-18-5aaf3e597734>\u001b[0m in \u001b[0;36m<cell line: 0>\u001b[0;34m()\u001b[0m\n\u001b[1;32m      8\u001b[0m \u001b[0;34m\u001b[0m\u001b[0m\n\u001b[1;32m      9\u001b[0m \u001b[0;31m# تحويل csr_matrix إلى cudf DataFrame\u001b[0m\u001b[0;34m\u001b[0m\u001b[0;34m\u001b[0m\u001b[0m\n\u001b[0;32m---> 10\u001b[0;31m \u001b[0mX_transformed_cudf\u001b[0m \u001b[0;34m=\u001b[0m \u001b[0mcudf\u001b[0m\u001b[0;34m.\u001b[0m\u001b[0mDataFrame\u001b[0m\u001b[0;34m.\u001b[0m\u001b[0mfrom_pandas\u001b[0m\u001b[0;34m(\u001b[0m\u001b[0mX_transformed\u001b[0m\u001b[0;34m.\u001b[0m\u001b[0mtoarray\u001b[0m\u001b[0;34m(\u001b[0m\u001b[0;34m)\u001b[0m\u001b[0;34m)\u001b[0m\u001b[0;34m\u001b[0m\u001b[0;34m\u001b[0m\u001b[0m\n\u001b[0m\u001b[1;32m     11\u001b[0m \u001b[0;34m\u001b[0m\u001b[0m\n\u001b[1;32m     12\u001b[0m \u001b[0;31m# تأكد من أن البيانات أصبحت جاهزة\u001b[0m\u001b[0;34m\u001b[0m\u001b[0;34m\u001b[0m\u001b[0m\n",
            "\u001b[0;32m/usr/local/lib/python3.11/dist-packages/cupyx/scipy/sparse/_csr.py\u001b[0m in \u001b[0;36mtoarray\u001b[0;34m(self, order, out)\u001b[0m\n\u001b[1;32m    417\u001b[0m                 and (not runtime.is_hip or (x.nnz > 0))):\n\u001b[1;32m    418\u001b[0m             \u001b[0;31m# On HIP, nnz=0 is problematic as of ROCm 4.2.0\u001b[0m\u001b[0;34m\u001b[0m\u001b[0;34m\u001b[0m\u001b[0m\n\u001b[0;32m--> 419\u001b[0;31m             \u001b[0my\u001b[0m \u001b[0;34m=\u001b[0m \u001b[0mcusparse\u001b[0m\u001b[0;34m.\u001b[0m\u001b[0msparseToDense\u001b[0m\u001b[0;34m(\u001b[0m\u001b[0mx\u001b[0m\u001b[0;34m)\u001b[0m\u001b[0;34m\u001b[0m\u001b[0;34m\u001b[0m\u001b[0m\n\u001b[0m\u001b[1;32m    420\u001b[0m             \u001b[0;32mif\u001b[0m \u001b[0morder\u001b[0m \u001b[0;34m==\u001b[0m \u001b[0;34m'F'\u001b[0m\u001b[0;34m:\u001b[0m\u001b[0;34m\u001b[0m\u001b[0;34m\u001b[0m\u001b[0m\n\u001b[1;32m    421\u001b[0m                 \u001b[0;32mreturn\u001b[0m \u001b[0my\u001b[0m\u001b[0;34m\u001b[0m\u001b[0;34m\u001b[0m\u001b[0m\n",
            "\u001b[0;32m/usr/local/lib/python3.11/dist-packages/cupyx/cusparse.py\u001b[0m in \u001b[0;36msparseToDense\u001b[0;34m(x, out)\u001b[0m\n\u001b[1;32m   1819\u001b[0m     \u001b[0;32massert\u001b[0m \u001b[0mdtype\u001b[0m\u001b[0;34m.\u001b[0m\u001b[0mchar\u001b[0m \u001b[0;32min\u001b[0m \u001b[0;34m'fdFD'\u001b[0m\u001b[0;34m\u001b[0m\u001b[0;34m\u001b[0m\u001b[0m\n\u001b[1;32m   1820\u001b[0m     \u001b[0;32mif\u001b[0m \u001b[0mout\u001b[0m \u001b[0;32mis\u001b[0m \u001b[0;32mNone\u001b[0m\u001b[0;34m:\u001b[0m\u001b[0;34m\u001b[0m\u001b[0;34m\u001b[0m\u001b[0m\n\u001b[0;32m-> 1821\u001b[0;31m         \u001b[0mout\u001b[0m \u001b[0;34m=\u001b[0m \u001b[0m_cupy\u001b[0m\u001b[0;34m.\u001b[0m\u001b[0mzeros\u001b[0m\u001b[0;34m(\u001b[0m\u001b[0mx\u001b[0m\u001b[0;34m.\u001b[0m\u001b[0mshape\u001b[0m\u001b[0;34m,\u001b[0m \u001b[0mdtype\u001b[0m\u001b[0;34m=\u001b[0m\u001b[0mdtype\u001b[0m\u001b[0;34m,\u001b[0m \u001b[0morder\u001b[0m\u001b[0;34m=\u001b[0m\u001b[0;34m'F'\u001b[0m\u001b[0;34m)\u001b[0m\u001b[0;34m\u001b[0m\u001b[0;34m\u001b[0m\u001b[0m\n\u001b[0m\u001b[1;32m   1822\u001b[0m     \u001b[0;32melse\u001b[0m\u001b[0;34m:\u001b[0m\u001b[0;34m\u001b[0m\u001b[0;34m\u001b[0m\u001b[0m\n\u001b[1;32m   1823\u001b[0m         \u001b[0;32massert\u001b[0m \u001b[0mout\u001b[0m\u001b[0;34m.\u001b[0m\u001b[0mflags\u001b[0m\u001b[0;34m.\u001b[0m\u001b[0mf_contiguous\u001b[0m\u001b[0;34m\u001b[0m\u001b[0;34m\u001b[0m\u001b[0m\n",
            "\u001b[0;32m/usr/local/lib/python3.11/dist-packages/cupy/_creation/basic.py\u001b[0m in \u001b[0;36mzeros\u001b[0;34m(shape, dtype, order)\u001b[0m\n\u001b[1;32m    246\u001b[0m \u001b[0;34m\u001b[0m\u001b[0m\n\u001b[1;32m    247\u001b[0m     \"\"\"\n\u001b[0;32m--> 248\u001b[0;31m     \u001b[0ma\u001b[0m \u001b[0;34m=\u001b[0m \u001b[0mcupy\u001b[0m\u001b[0;34m.\u001b[0m\u001b[0mndarray\u001b[0m\u001b[0;34m(\u001b[0m\u001b[0mshape\u001b[0m\u001b[0;34m,\u001b[0m \u001b[0mdtype\u001b[0m\u001b[0;34m,\u001b[0m \u001b[0morder\u001b[0m\u001b[0;34m=\u001b[0m\u001b[0morder\u001b[0m\u001b[0;34m)\u001b[0m\u001b[0;34m\u001b[0m\u001b[0;34m\u001b[0m\u001b[0m\n\u001b[0m\u001b[1;32m    249\u001b[0m     \u001b[0ma\u001b[0m\u001b[0;34m.\u001b[0m\u001b[0mdata\u001b[0m\u001b[0;34m.\u001b[0m\u001b[0mmemset_async\u001b[0m\u001b[0;34m(\u001b[0m\u001b[0;36m0\u001b[0m\u001b[0;34m,\u001b[0m \u001b[0ma\u001b[0m\u001b[0;34m.\u001b[0m\u001b[0mnbytes\u001b[0m\u001b[0;34m)\u001b[0m\u001b[0;34m\u001b[0m\u001b[0;34m\u001b[0m\u001b[0m\n\u001b[1;32m    250\u001b[0m     \u001b[0;32mreturn\u001b[0m \u001b[0ma\u001b[0m\u001b[0;34m\u001b[0m\u001b[0;34m\u001b[0m\u001b[0m\n",
            "\u001b[0;32mcupy/_core/core.pyx\u001b[0m in \u001b[0;36mcupy._core.core.ndarray.__new__\u001b[0;34m()\u001b[0m\n",
            "\u001b[0;32mcupy/_core/core.pyx\u001b[0m in \u001b[0;36mcupy._core.core._ndarray_base._init\u001b[0;34m()\u001b[0m\n",
            "\u001b[0;32mcupy/cuda/memory.pyx\u001b[0m in \u001b[0;36mcupy.cuda.memory.alloc\u001b[0;34m()\u001b[0m\n",
            "\u001b[0;32m/usr/local/lib/python3.11/dist-packages/rmm/allocators/cupy.py\u001b[0m in \u001b[0;36mrmm_cupy_allocator\u001b[0;34m(nbytes)\u001b[0m\n\u001b[1;32m     35\u001b[0m \u001b[0;34m\u001b[0m\u001b[0m\n\u001b[1;32m     36\u001b[0m     \u001b[0mstream\u001b[0m \u001b[0;34m=\u001b[0m \u001b[0mStream\u001b[0m\u001b[0;34m(\u001b[0m\u001b[0mobj\u001b[0m\u001b[0;34m=\u001b[0m\u001b[0mcupy\u001b[0m\u001b[0;34m.\u001b[0m\u001b[0mcuda\u001b[0m\u001b[0;34m.\u001b[0m\u001b[0mget_current_stream\u001b[0m\u001b[0;34m(\u001b[0m\u001b[0;34m)\u001b[0m\u001b[0;34m)\u001b[0m\u001b[0;34m\u001b[0m\u001b[0;34m\u001b[0m\u001b[0m\n\u001b[0;32m---> 37\u001b[0;31m     \u001b[0mbuf\u001b[0m \u001b[0;34m=\u001b[0m \u001b[0mpylibrmm\u001b[0m\u001b[0;34m.\u001b[0m\u001b[0mdevice_buffer\u001b[0m\u001b[0;34m.\u001b[0m\u001b[0mDeviceBuffer\u001b[0m\u001b[0;34m(\u001b[0m\u001b[0msize\u001b[0m\u001b[0;34m=\u001b[0m\u001b[0mnbytes\u001b[0m\u001b[0;34m,\u001b[0m \u001b[0mstream\u001b[0m\u001b[0;34m=\u001b[0m\u001b[0mstream\u001b[0m\u001b[0;34m)\u001b[0m\u001b[0;34m\u001b[0m\u001b[0;34m\u001b[0m\u001b[0m\n\u001b[0m\u001b[1;32m     38\u001b[0m     \u001b[0mdev_id\u001b[0m \u001b[0;34m=\u001b[0m \u001b[0;34m-\u001b[0m\u001b[0;36m1\u001b[0m \u001b[0;32mif\u001b[0m \u001b[0mbuf\u001b[0m\u001b[0;34m.\u001b[0m\u001b[0mptr\u001b[0m \u001b[0;32melse\u001b[0m \u001b[0mcupy\u001b[0m\u001b[0;34m.\u001b[0m\u001b[0mcuda\u001b[0m\u001b[0;34m.\u001b[0m\u001b[0mdevice\u001b[0m\u001b[0;34m.\u001b[0m\u001b[0mget_device_id\u001b[0m\u001b[0;34m(\u001b[0m\u001b[0;34m)\u001b[0m\u001b[0;34m\u001b[0m\u001b[0;34m\u001b[0m\u001b[0m\n\u001b[1;32m     39\u001b[0m     mem = cupy.cuda.UnownedMemory(\n",
            "\u001b[0;32mdevice_buffer.pyx\u001b[0m in \u001b[0;36mrmm.pylibrmm.device_buffer.DeviceBuffer.__cinit__\u001b[0;34m()\u001b[0m\n",
            "\u001b[0;31mMemoryError\u001b[0m: std::bad_alloc: out_of_memory: CUDA error at: /tmp/pip-build-env-c7imy8iv/normal/lib/python3.11/site-packages/librmm/include/rmm/mr/device/cuda_memory_resource.hpp:62: cudaErrorMemoryAllocation out of memory"
          ]
        }
      ]
    },
    {
      "cell_type": "code",
      "source": [
        "X_small = X[:100000]\n",
        "y_small = y[:100000]"
      ],
      "metadata": {
        "id": "_6qiVelplKMG"
      },
      "execution_count": null,
      "outputs": []
    },
    {
      "cell_type": "code",
      "source": [
        "X_small = X[:100000]\n",
        "y_small = y[:100000]\n",
        "\n",
        "vectorizer = cuTfidfVectorizer(max_features=2000)\n",
        "X_transformed = vectorizer.fit_transform(X_small)"
      ],
      "metadata": {
        "id": "3JPwwTSqmtgg"
      },
      "execution_count": null,
      "outputs": []
    },
    {
      "cell_type": "code",
      "source": [
        "from sklearn.feature_extraction.text import TfidfVectorizer\n",
        "\n",
        "vectorizer = TfidfVectorizer(max_features=2000)\n",
        "X_transformed = vectorizer.fit_transform(X_small)"
      ],
      "metadata": {
        "id": "b8-XkaATohTe"
      },
      "execution_count": null,
      "outputs": []
    },
    {
      "cell_type": "code",
      "source": [
        "\n",
        "X_small = X[:50000]\n",
        "y_small = y[:50000]\n",
        "\n",
        "vectorizer = cuTfidfVectorizer(max_features=1000)\n",
        "X_transformed = vectorizer.fit_transform(X_small)"
      ],
      "metadata": {
        "id": "qzim4U3Yo1So"
      },
      "execution_count": null,
      "outputs": []
    },
    {
      "cell_type": "code",
      "source": [
        "import cudf\n",
        "import cupy as cp\n",
        "from cuml.decomposition import TruncatedSVD\n",
        "\n",
        "X_dense = X_transformed.toarray()\n",
        "\n",
        "svd = TruncatedSVD(n_components=100)\n",
        "X_transformed_svd = svd.fit_transform(X_dense)\n",
        "\n",
        "print(X_transformed_svd.shape)"
      ],
      "metadata": {
        "colab": {
          "base_uri": "https://localhost:8080/"
        },
        "id": "HuNkywvYo-wA",
        "outputId": "e6b38db3-14fa-44a5-ee3d-dabcd26d954d"
      },
      "execution_count": null,
      "outputs": [
        {
          "output_type": "stream",
          "name": "stdout",
          "text": [
            "(50000, 100)\n"
          ]
        }
      ]
    },
    {
      "cell_type": "code",
      "source": [
        "from cuml.naive_bayes import MultinomialNB\n",
        "from cuml.linear_model import LogisticRegression\n",
        "from cuml.ensemble import RandomForestClassifier\n",
        "from cuml.metrics import accuracy_score\n",
        "import matplotlib.pyplot as plt\n",
        "\n",
        "nb_model = MultinomialNB()\n",
        "nb_model.fit(X_transformed_svd, y_small)\n",
        "\n",
        "nb_pred = nb_model.predict(X_transformed_svd)\n",
        "nb_accuracy = accuracy_score(y_small, nb_pred)\n",
        "print(f\"Naive Bayes Accuracy: {nb_accuracy}\")\n",
        "\n",
        "lr_model = LogisticRegression()\n",
        "lr_model.fit(X_transformed_svd, y_small)\n",
        "\n",
        "lr_pred = lr_model.predict(X_transformed_svd)\n",
        "lr_accuracy = accuracy_score(y_small, lr_pred)\n",
        "print(f\"Logistic Regression Accuracy: {lr_accuracy}\")\n",
        "\n",
        "rf_model = RandomForestClassifier()\n",
        "rf_model.fit(X_transformed_svd, y_small)\n",
        "\n",
        "rf_pred = rf_model.predict(X_transformed_svd)\n",
        "rf_accuracy = accuracy_score(y_small, rf_pred)\n",
        "print(f\"Random Forest Accuracy: {rf_accuracy}\")\n",
        "\n",
        "models = ['Naive Bayes', 'Logistic Regression', 'Random Forest']\n",
        "accuracies = [nb_accuracy, lr_accuracy, rf_accuracy]\n",
        "\n",
        "plt.bar(models, accuracies, color=['blue', 'green', 'red'])\n",
        "plt.xlabel('Model')\n",
        "plt.ylabel('Accuracy')\n",
        "plt.title('Model Accuracy Comparison')\n",
        "plt.show()"
      ],
      "metadata": {
        "colab": {
          "base_uri": "https://localhost:8080/",
          "height": 524
        },
        "id": "FyGPrE5EpD1U",
        "outputId": "4a1b0cc9-8826-447f-806b-e814d31bb073"
      },
      "execution_count": null,
      "outputs": [
        {
          "output_type": "stream",
          "name": "stdout",
          "text": [
            "Naive Bayes Accuracy: 0.34101998805999756\n",
            "Logistic Regression Accuracy: 0.9833400249481201\n",
            "Random Forest Accuracy: 0.9983400106430054\n"
          ]
        },
        {
          "output_type": "display_data",
          "data": {
            "text/plain": [
              "<Figure size 640x480 with 1 Axes>"
            ],
            "image/png": "[encoded data removed]"
          },
          "metadata": {}
        }
      ]
    },
    {
      "cell_type": "code",
      "source": [
        "import cupy as cp\n",
        "import time\n",
        "from cuml.naive_bayes import MultinomialNB\n",
        "from cuml.linear_model import LogisticRegression\n",
        "from cuml.ensemble import RandomForestClassifier\n",
        "from cuml.metrics import accuracy_score\n",
        "\n",
        "gpu_before_free, gpu_before_total = cp.cuda.runtime.memGetInfo()\n",
        "\n",
        "start_time = time.time()\n",
        "nb_model = MultinomialNB()\n",
        "nb_model.fit(X_transformed_svd, y_small)\n",
        "nb_pred = nb_model.predict(X_transformed_svd)\n",
        "nb_accuracy = accuracy_score(y_small, nb_pred)\n",
        "end_time = time.time()\n",
        "\n",
        "gpu_after_free, gpu_after_total = cp.cuda.runtime.memGetInfo()\n",
        "gpu_memory_used = gpu_after_total - gpu_before_total\n",
        "\n",
        "print(f\"Naive Bayes Training Time: {end_time - start_time} seconds\")\n",
        "print(f\"Naive Bayes Memory Used: {gpu_memory_used} bytes\")\n",
        "\n",
        "start_time = time.time()\n",
        "lr_model = LogisticRegression()\n",
        "lr_model.fit(X_transformed_svd, y_small)\n",
        "lr_pred = lr_model.predict(X_transformed_svd)\n",
        "lr_accuracy = accuracy_score(y_small, lr_pred)\n",
        "end_time = time.time()\n",
        "\n",
        "gpu_after_free, gpu_after_total = cp.cuda.runtime.memGetInfo()\n",
        "gpu_memory_used = gpu_after_total - gpu_before_total\n",
        "\n",
        "print(f\"Logistic Regression Training Time: {end_time - start_time} seconds\")\n",
        "print(f\"Logistic Regression Memory Used: {gpu_memory_used} bytes\")\n",
        "\n",
        "start_time = time.time()\n",
        "rf_model = RandomForestClassifier()\n",
        "rf_model.fit(X_transformed_svd, y_small)\n",
        "rf_pred = rf_model.predict(X_transformed_svd)\n",
        "rf_accuracy = accuracy_score(y_small, rf_pred)\n",
        "end_time = time.time()\n",
        "\n",
        "gpu_after_free, gpu_after_total = cp.cuda.runtime.memGetInfo()\n",
        "gpu_memory_used = gpu_after_total - gpu_before_total\n",
        "\n",
        "print(f\"Random Forest Training Time: {end_time - start_time} seconds\")\n",
        "print(f\"Random Forest Memory Used: {gpu_memory_used} bytes\")"
      ],
      "metadata": {
        "colab": {
          "base_uri": "https://localhost:8080/"
        },
        "id": "6m2uV_HBp9Tg",
        "outputId": "860be190-09c6-41f8-c763-748c4e09bcbb"
      },
      "execution_count": null,
      "outputs": [
        {
          "output_type": "stream",
          "name": "stdout",
          "text": [
            "Naive Bayes Training Time: 0.039766550064086914 seconds\n",
            "Naive Bayes Memory Used: 0 bytes\n",
            "Logistic Regression Training Time: 0.16526389122009277 seconds\n",
            "Logistic Regression Memory Used: 0 bytes\n",
            "Random Forest Training Time: 2.451378583908081 seconds\n",
            "Random Forest Memory Used: 0 bytes\n"
          ]
        }
      ]
    },
    {
      "cell_type": "code",
      "source": [
        "!pip install xgboost"
      ],
      "metadata": {
        "collapsed": true,
        "colab": {
          "base_uri": "https://localhost:8080/"
        },
        "id": "MNyQACEYrmvV",
        "outputId": "6f6cc6dd-b366-4501-c878-71eec425c9f6"
      },
      "execution_count": null,
      "outputs": [
        {
          "output_type": "stream",
          "name": "stdout",
          "text": [
            "Requirement already satisfied: xgboost in /usr/local/lib/python3.11/dist-packages (2.1.4)\n",
            "Requirement already satisfied: numpy in /usr/local/lib/python3.11/dist-packages (from xgboost) (2.0.2)\n",
            "Requirement already satisfied: nvidia-nccl-cu12 in /usr/local/lib/python3.11/dist-packages (from xgboost) (2.21.5)\n",
            "Requirement already satisfied: scipy in /usr/local/lib/python3.11/dist-packages (from xgboost) (1.14.1)\n"
          ]
        }
      ]
    },
    {
      "cell_type": "code",
      "source": [
        "import xgboost as xgb\n",
        "from cuml.metrics import accuracy_score\n",
        "import time\n",
        "\n",
        "dtrain = xgb.DMatrix(X_transformed_svd, label=y_small)\n",
        "dtest = xgb.DMatrix(X_transformed_svd, label=y_small)\n",
        "\n",
        "params = {\n",
        "    'tree_method': 'hist',\n",
        "    'device': 'cuda',\n",
        "    'objective': 'binary:logistic',\n",
        "    'eval_metric': 'logloss',\n",
        "}\n",
        "\n",
        "start_time = time.time()\n",
        "bst = xgb.train(params, dtrain, num_boost_round=100)\n",
        "\n",
        "y_pred = bst.predict(dtest)\n",
        "\n",
        "y_pred_binary = (y_pred > 0.5).astype(int)\n",
        "\n",
        "accuracy = accuracy_score(y_small, y_pred_binary)\n",
        "end_time = time.time()\n",
        "\n",
        "print(f\"XGBoost Training Time: {end_time - start_time} seconds\")\n",
        "print(f\"XGBoost Accuracy: {accuracy}\")"
      ],
      "metadata": {
        "colab": {
          "base_uri": "https://localhost:8080/"
        },
        "collapsed": true,
        "id": "dNq85NJfqORa",
        "outputId": "7b43123d-2203-4cb2-82cd-31d0ee518daf"
      },
      "execution_count": null,
      "outputs": [
        {
          "output_type": "stream",
          "name": "stdout",
          "text": [
            "XGBoost Training Time: 1.0968921184539795 seconds\n",
            "XGBoost Accuracy: 1.0\n"
          ]
        }
      ]
    },
    {
      "cell_type": "code",
      "source": [
        "from sklearn.model_selection import cross_val_score\n",
        "import xgboost as xgb\n",
        "import numpy as np\n",
        "dtrain = xgb.DMatrix(X_transformed_svd, label=y_small)\n",
        "\n",
        "params = {\n",
        "    'tree_method': 'hist',\n",
        "    'device': 'cuda',\n",
        "    'objective': 'binary:logistic',\n",
        "    'eval_metric': 'logloss',\n",
        "}\n",
        "\n",
        "cv_results = xgb.cv(params, dtrain, num_boost_round=100, nfold=5, metrics=\"logloss\", as_pandas=True)\n",
        "\n",
        "print(cv_results.tail())\n",
        "\n",
        "cv_accuracy = cv_results['test-logloss-mean'].min()\n",
        "print(f\"XGBoost Cross-Validation Accuracy (Logloss): {cv_accuracy}\")"
      ],
      "metadata": {
        "colab": {
          "base_uri": "https://localhost:8080/"
        },
        "id": "hlyYKmKTrOjZ",
        "outputId": "7537232f-18d3-4dcf-e514-da76d318526b"
      },
      "execution_count": null,
      "outputs": [
        {
          "output_type": "stream",
          "name": "stdout",
          "text": [
            "    train-logloss-mean  train-logloss-std  test-logloss-mean  test-logloss-std\n",
            "95            0.001615           0.000108           0.028412          0.001818\n",
            "96            0.001582           0.000106           0.028328          0.001823\n",
            "97            0.001546           0.000106           0.028280          0.001874\n",
            "98            0.001511           0.000105           0.028254          0.001913\n",
            "99            0.001476           0.000098           0.028220          0.001945\n",
            "XGBoost Cross-Validation Accuracy (Logloss): 0.028220371076160267\n"
          ]
        }
      ]
    },
    {
      "cell_type": "code",
      "source": [],
      "metadata": {
        "id": "W-yuZuwLs1iu"
      },
      "execution_count": null,
      "outputs": []
    }
  ]
}